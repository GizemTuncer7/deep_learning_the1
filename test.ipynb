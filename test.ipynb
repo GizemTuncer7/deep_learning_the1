{
 "cells": [
  {
   "cell_type": "code",
   "execution_count": 1,
   "outputs": [],
   "source": [
    "import numpy as np\n",
    "from cergen import *\n",
    "import time"
   ],
   "metadata": {
    "collapsed": false,
    "ExecuteTime": {
     "end_time": "2024-03-10T20:13:51.909460603Z",
     "start_time": "2024-03-10T20:13:51.658417013Z"
    }
   },
   "id": "a94d8f046347e8e8"
  },
  {
   "cell_type": "code",
   "execution_count": 2,
   "outputs": [],
   "source": [
    "def are_the_same(tensor, numpy_arr):\n",
    "    flat_tensor_list = flatten(tensor.listeye())\n",
    "    flat_numpy_list = numpy_arr.flatten()\n",
    "    for i in range(len(flat_tensor_list)):\n",
    "        if abs(flat_tensor_list[i] - flat_numpy_list[i]) > 0.0001:\n",
    "            return False\n",
    "    return True"
   ],
   "metadata": {
    "collapsed": false,
    "ExecuteTime": {
     "end_time": "2024-03-10T20:13:51.920871766Z",
     "start_time": "2024-03-10T20:13:51.910635620Z"
    }
   },
   "id": "cc806f654a910bc9"
  },
  {
   "cell_type": "code",
   "execution_count": 3,
   "outputs": [
    {
     "name": "stdout",
     "output_type": "stream",
     "text": [
      "They are same\n",
      "Time taken for gergen: 0.15154647827148438\n",
      "Time taken for numpy: 0.003280162811279297\n"
     ]
    }
   ],
   "source": [
    "def example_1():\n",
    "    # Example 1\n",
    "    boyut = (64, 64)\n",
    "    g1 = rastgele_gercek(boyut)\n",
    "    g2 = rastgele_gercek(boyut)\n",
    "    np_1 = np.array(g1.listeye())\n",
    "    np_2 = np.array(g2.listeye())\n",
    "\n",
    "    start = time.time()\n",
    "    result_g = g1.ic_carpim(g2)\n",
    "    end = time.time()\n",
    "\n",
    "    start_np = time.time()\n",
    "    result_np = np_1.dot(np_2)\n",
    "    end_np = time.time()\n",
    "\n",
    "    if are_the_same(result_g, result_np):\n",
    "        print(\"They are same\")\n",
    "    else:\n",
    "        print(\"They are different\")\n",
    "\n",
    "    print(\"Time taken for gergen:\", end - start)\n",
    "    print(\"Time taken for numpy:\", end_np - start_np)\n",
    "example_1()"
   ],
   "metadata": {
    "collapsed": false,
    "ExecuteTime": {
     "end_time": "2024-03-10T20:13:52.166289406Z",
     "start_time": "2024-03-10T20:13:51.919523791Z"
    }
   },
   "id": "bc6e856f7871bc5"
  },
  {
   "cell_type": "code",
   "execution_count": 13,
   "outputs": [
    {
     "name": "stdout",
     "output_type": "stream",
     "text": [
      "They are same\n",
      "Time taken for gergen: 1.3719775676727295\n",
      "Time taken for numpy: 0.00011992454528808594\n"
     ]
    }
   ],
   "source": [
    "def example_2():\n",
    "    gergen_a = rastgele_gercek((4, 16, 16, 16))\n",
    "    gergen_b = rastgele_gercek((4, 16, 16, 16))\n",
    "    gergen_c = rastgele_gercek((4, 16, 16, 16))\n",
    "    start = time.time()\n",
    "    result = (gergen_a * gergen_b + gergen_a * gergen_c + gergen_b * gergen_c).ortalama()\n",
    "    end = time.time()\n",
    "\n",
    "    np_a = np.array(gergen_a.listeye())\n",
    "    np_b = np.array(gergen_b.listeye())\n",
    "    np_c = np.array(gergen_c.listeye())\n",
    "    start_np = time.time()\n",
    "    result_np = (np_a * np_b + np_a * np_c + np_b * np_c).mean()\n",
    "    end_np = time.time()\n",
    "\n",
    "    epsi = 0.0001\n",
    "    if abs(result - result_np) < epsi:\n",
    "        print(\"They are same\")\n",
    "    else:\n",
    "        print(\"They are different\")\n",
    "\n",
    "    print(\"Time taken for gergen:\", end - start)\n",
    "    print(\"Time taken for numpy:\", end_np - start_np)\n",
    "example_2()"
   ],
   "metadata": {
    "collapsed": false,
    "ExecuteTime": {
     "end_time": "2024-03-10T20:20:16.166714528Z",
     "start_time": "2024-03-10T20:20:14.096039500Z"
    }
   },
   "id": "11f5eaabc908dc0f"
  },
  {
   "cell_type": "code",
   "execution_count": 11,
   "outputs": [
    {
     "name": "stdout",
     "output_type": "stream",
     "text": [
      "They are same\n",
      "Time taken for gergen: 0.570544958114624\n",
      "Time taken for numpy: 0.00035834312438964844\n"
     ]
    }
   ],
   "source": [
    "def example_3():\n",
    "    gergen_a = rastgele_gercek((3, 64, 64))\n",
    "    gergen_b = rastgele_gercek((3, 64, 64))\n",
    "    \n",
    "    start = time.time()\n",
    "    result = (gergen_a.sin() + gergen_b.cos().us(2)).ln() / 8\n",
    "    end = time.time()\n",
    "    \n",
    "    np_a = np.array(gergen_a.listeye())\n",
    "    np_b = np.array(gergen_b.listeye())\n",
    "    \n",
    "    start_np = time.time()\n",
    "    result_np = np.log(np.sin(np_a) + np.cos(np_b) ** 2) / 8\n",
    "    end_np = time.time()\n",
    "    \n",
    "    if are_the_same(result, result_np):\n",
    "        print(\"They are same\")\n",
    "    else:\n",
    "        print(\"They are different\")\n",
    "    \n",
    "    print(\"Time taken for gergen:\", end - start)\n",
    "    print(\"Time taken for numpy:\", end_np - start_np)\n",
    "    \n",
    "example_3()"
   ],
   "metadata": {
    "collapsed": false,
    "ExecuteTime": {
     "end_time": "2024-03-10T20:19:43.296475600Z",
     "start_time": "2024-03-10T20:19:42.372151617Z"
    }
   },
   "id": "8dcc24fe9400c4c2"
  }
 ],
 "metadata": {
  "kernelspec": {
   "display_name": "Python 3",
   "language": "python",
   "name": "python3"
  },
  "language_info": {
   "codemirror_mode": {
    "name": "ipython",
    "version": 2
   },
   "file_extension": ".py",
   "mimetype": "text/x-python",
   "name": "python",
   "nbconvert_exporter": "python",
   "pygments_lexer": "ipython2",
   "version": "2.7.6"
  }
 },
 "nbformat": 4,
 "nbformat_minor": 5
}
